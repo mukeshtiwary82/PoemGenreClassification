{
 "cells": [
  {
   "cell_type": "code",
   "execution_count": 1,
   "metadata": {},
   "outputs": [
    {
     "name": "stderr",
     "output_type": "stream",
     "text": [
      "/home/kamal/Desktop/Projects/poem genre classification/poem_env/lib/python3.11/site-packages/tqdm/auto.py:21: TqdmWarning: IProgress not found. Please update jupyter and ipywidgets. See https://ipywidgets.readthedocs.io/en/stable/user_install.html\n",
      "  from .autonotebook import tqdm as notebook_tqdm\n"
     ]
    }
   ],
   "source": [
    "import google.generativeai as genai"
   ]
  },
  {
   "cell_type": "code",
   "execution_count": 1,
   "metadata": {},
   "outputs": [
    {
     "name": "stdout",
     "output_type": "stream",
     "text": [
      "Note: you may need to restart the kernel to use updated packages.\n"
     ]
    }
   ],
   "source": [
    "# pip install -q -U google-generativeai"
   ]
  },
  {
   "cell_type": "code",
   "execution_count": 26,
   "metadata": {},
   "outputs": [
    {
     "data": {
      "text/html": [
       "<div>\n",
       "<style scoped>\n",
       "    .dataframe tbody tr th:only-of-type {\n",
       "        vertical-align: middle;\n",
       "    }\n",
       "\n",
       "    .dataframe tbody tr th {\n",
       "        vertical-align: top;\n",
       "    }\n",
       "\n",
       "    .dataframe thead th {\n",
       "        text-align: right;\n",
       "    }\n",
       "</style>\n",
       "<table border=\"1\" class=\"dataframe\">\n",
       "  <thead>\n",
       "    <tr style=\"text-align: right;\">\n",
       "      <th></th>\n",
       "      <th>Genre</th>\n",
       "      <th>Poem</th>\n",
       "    </tr>\n",
       "  </thead>\n",
       "  <tbody>\n",
       "  </tbody>\n",
       "</table>\n",
       "</div>"
      ],
      "text/plain": [
       "Empty DataFrame\n",
       "Columns: [Genre, Poem]\n",
       "Index: []"
      ]
     },
     "execution_count": 26,
     "metadata": {},
     "output_type": "execute_result"
    }
   ],
   "source": [
    "import pandas as pd\n",
    "\n",
    "# Creating a data set to store generated data points\n",
    "gen_df = pd.DataFrame(columns = ['Genre','Poem'])\n",
    "gen_df"
   ]
  },
  {
   "cell_type": "code",
   "execution_count": 2,
   "metadata": {},
   "outputs": [],
   "source": [
    "# Please add your gemini-pro api key\n",
    "genai.configure(api_key='YOUR API KEY')"
   ]
  },
  {
   "cell_type": "code",
   "execution_count": 55,
   "metadata": {},
   "outputs": [],
   "source": [
    "def get_gemini_response(prompt):\n",
    "    model = genai.GenerativeModel(\"gemini-pro\",generation_config=genai.GenerationConfig(temperature=0.7))\n",
    "    response = model.generate_content(prompt)\n",
    "    return response.text"
   ]
  },
  {
   "cell_type": "code",
   "execution_count": 52,
   "metadata": {},
   "outputs": [],
   "source": [
    "def create_prompt(genre=''):\n",
    "    input_prompt =f'''\n",
    "                    act as a professional poet\n",
    "                    write minimum 50 no of poems in the {genre} genre.\n",
    "                    do not add the poem name, only write the complete poem.\n",
    "                    maintain all 50 poems in the below format\n",
    "                    \"\n",
    "                    1. ...\n",
    "                    2. ...\n",
    "                    .\n",
    "                    .\n",
    "                    50. ...\n",
    "                    \"\n",
    "                ''' \n",
    "    return input_prompt"
   ]
  },
  {
   "cell_type": "code",
   "execution_count": 6,
   "metadata": {},
   "outputs": [],
   "source": [
    "Death_poem = get_gemini_response(create_prompt('Death'))"
   ]
  },
  {
   "cell_type": "code",
   "execution_count": 9,
   "metadata": {},
   "outputs": [
    {
     "name": "stdout",
     "output_type": "stream",
     "text": [
      "1. In realms of silence, where shadows dance,\n",
      "Death's icy grip claims its fateful trance.\n",
      "The body's vessel, once filled with breath,\n",
      "Now lies as cold as the grave's embrace beneath.\n",
      "\n",
      "2. Through the veil of darkness, a whispered plea,\n",
      "Death's relentless hand, an eternal decree.\n",
      "The heart's last beat, a mournful farewell,\n",
      "As life succumbs to the eternal spell.\n",
      "\n",
      "3. In the tapestry of time, threads swiftly cease,\n",
      "Death's loom weaves sorrow, forever to release.\n",
      "Loved ones scattered, their hearts now torn,\n",
      "As they mourn the loss that can never be born.\n",
      "\n",
      "4. The phantom's touch, a chilling embrace,\n",
      "Death's symphony echoes through time and space.\n",
      "Memories linger, a bittersweet refrain,\n",
      "Of moments shared, never to be shared again.\n",
      "\n",
      "5. In the sanctuary of night, a mournful wail,\n",
      "Death's raven wings unfold, a sinister trail.\n",
      "The soul departs, leaving behind a void,\n",
      "As loved ones grapple with emptiness devoid.\n",
      "\n",
      "6. Death's silent call, an irreversible fate,\n",
      "The cloak of darkness consumes, leaving desolate.\n",
      "Past joys and dreams now fade into the night,\n",
      "As the final chapter of life takes its flight.\n",
      "\n",
      "7. Through the gates of oblivion, souls gently glide,\n",
      "Death's enigmatic realm, where secrets reside.\n",
      "The living left behind, their hearts forever scarred,\n",
      "Haunted by memories, by shadows unmarred.\n",
      "\n",
      "8. In the tapestry of existence, threads fray and tear,\n",
      "Death's scissors sever, without care or fear.\n",
      "The seamstress of fate, with a cruel design,\n",
      "Rends the fabric of life, leaving only decline.\n",
      "\n",
      "9. The cosmic dance of life and death entwined,\n",
      "A poignant ballet, where destiny is defined.\n",
      "From dust to dust, the cycle finds its way,\n",
      "As souls ascend and bodies decay.\n",
      "\n",
      "10. Death's icy embrace, a chilling reminder,\n",
      "That life's journey holds an ephemeral splendor.\n",
      "The flame flickers, then extinguished with a sigh,\n",
      "As the eternal curtain gently falls nearby.\n",
      "\n",
      "11. Through the mists of time, a solemn procession,\n",
      "Death's chariot bears burdens, without concession.\n",
      "The living watch in awe, with mournful gaze,\n",
      "As the departed vanish in the darkest of days.\n",
      "\n",
      "12. In the heart's darkest chamber, grief takes its toll,\n",
      "Death's relentless grip, a tormenting soul.\n",
      "Tears flow like rivers, an endless cascade,\n",
      "As cherished memories in anguish are laid.\n",
      "\n",
      "13. The spectral realm, a realm of shadows deep,\n",
      "Where Death's dominion its secrets shall keep.\n",
      "Disembodied echoes, whispers in the air,\n",
      "A symphony of mourning, both poignant and fair.\n",
      "\n",
      "14. In nature's embrace, a poignant epitaph,\n",
      "Death's gentle kiss, a final breath.\n",
      "The fallen leaves, a testament to time's flight,\n",
      "As life surrenders to eternal night.\n",
      "\n",
      "15. The veil of mortality, a fragile thread,\n",
      "Death's needle pierces, the final thread is shed.\n",
      "From the ethereal womb, a soul now free,\n",
      "Released from earthly bonds, forever to be.\n",
      "\n",
      "16. Through the labyrinth of memory's maze,\n",
      "Death's footsteps echo, in a solemn haze.\n",
      "The heartstrings tremble, as recollections ignite,\n",
      "Of moments shared, now lost in eternal night.\n",
      "\n",
      "17. In the garden of souls, a bloom decays,\n",
      "Death's gentle hand, a petal it betrays.\n",
      "The vibrant colors fade, a somber hue,\n",
      "As life's symphony fades, to silence anew.\n",
      "\n",
      "18. Death's silent symphony, a poignant score,\n",
      "A requiem for dreams, forevermore.\n",
      "The melody of life, now stilled and cold,\n",
      "A haunting whisper, a tale yet untold.\n",
      "\n",
      "19. In the celestial tapestry, threads intertwine,\n",
      "Death's shears cut ruthlessly, a design divine.\n",
      "The cosmic weaver's hand, a somber fate,\n",
      "As souls ascend, their earthly burdens abate.\n",
      "\n",
      "20. The hourglass of time, grains slowly fall,\n",
      "Death's hand upon it, heeding nature's call.\n",
      "With every passing moment, the sands deplete,\n",
      "As life's journey nears its final retreat.\n",
      "\n",
      "21. Through the misty veil, a spectral dance,\n",
      "Death's ethereal waltz, a mournful trance.\n",
      "Whispers carried on the wind's soft breath,\n",
      "A symphony of souls, released from their depths.\n",
      "\n",
      "22. In the depths of slumber, a timeless night,\n",
      "Death's lullaby, a gentle, final light.\n",
      "Dreams dissolve, as consciousness takes flight,\n",
      "A journey beyond, to realms of endless night.\n",
      "\n",
      "23. The symphony of life, its finale nears,\n",
      "Death's maestro conducts, dispelling fears.\n",
      "The curtain falls, the stage now void and bare,\n",
      "As souls depart, leaving echoes in the air.\n",
      "\n",
      "24. On the canvas of life, Death's brushstrokes appear,\n",
      "Fading hues of joy, replaced by somber cheer.\n",
      "The vibrant colors dim, a mournful sigh,\n",
      "As the masterpiece of life begins to die.\n",
      "\n",
      "25. Through the veil of sorrow, tears gently flow,\n",
      "Death's poignant touch, an eternal woe.\n",
      "The heartstrings plucked, a mournful melody,\n",
      "A symphony of grief, a bittersweet elegy.\n",
      "\n",
      "26. In the garden of memories, a bloom now fades,\n",
      "Death's gentle touch, a blossom it pervades.\n",
      "Petals wither, colors softly dim,\n",
      "As life's sweet fragrance surrenders to its whim.\n",
      "\n",
      "27. On the river of life, a soul sets sail,\n",
      "Death's oarsman guides, through shadows veil.\n",
      "The journey's end, a distant, unknown shore,\n",
      "Where mysteries unfold forevermore.\n",
      "\n",
      "28. The hourglass of time, its sands run low,\n",
      "Death's hourglass, forever to and fro.\n",
      "With each grain that falls, a moment slips away,\n",
      "As life's tapestry unravels, day by day.\n",
      "\n",
      "29. In nature's gentle embrace, a soul finds its peace,\n",
      "Death's touch, a whispered secret, a sweet release.\n",
      "The body returns to the earth, to rest and abide,\n",
      "While the spirit soars beyond, where love resides.\n",
      "\n",
      "30. The symphony of life, a poignant refrain,\n",
      "Death's maestro conducts, with eternal gain.\n",
      "The final notes fade, the music softly dies,\n",
      "As the curtain falls, and the spirit flies.\n",
      "\n",
      "31. Through the mist of time, a solemn procession,\n",
      "Death's silent steps, a mournful obsession.\n",
      "Loved ones left behind, tears on their cheeks,\n",
      "Witnessing the journey their beloved seeks.\n",
      "\n",
      "32. On the canvas of life, a masterpiece unfolds,\n",
      "Death's brushstrokes paint a story yet untold.\n",
      "Shades of joy and sorrow, intertwined with care,\n",
      "A tapestry of memories, beyond compare.\n",
      "\n",
      "33. In the depths of slumber, a soul takes flight,\n",
      "Death's gentle whisper, a final goodbye.\n",
      "Dreams dissolve, as consciousness fades away,\n",
      "To realms unknown, where secrets softly sway.\n"
     ]
    }
   ],
   "source": [
    "print(Death_poem)"
   ]
  },
  {
   "cell_type": "code",
   "execution_count": 10,
   "metadata": {},
   "outputs": [
    {
     "data": {
      "text/plain": [
       "6055"
      ]
     },
     "execution_count": 10,
     "metadata": {},
     "output_type": "execute_result"
    }
   ],
   "source": [
    "len(Death_poem)"
   ]
  },
  {
   "cell_type": "code",
   "execution_count": null,
   "metadata": {},
   "outputs": [],
   "source": [
    "# cleaning text files before inserting to data frame"
   ]
  },
  {
   "cell_type": "code",
   "execution_count": 27,
   "metadata": {},
   "outputs": [
    {
     "data": {
      "text/plain": [
       "\"1. In realms of silence, where shadows dance,\\nDeath's icy grip claims its fateful trance.\\nThe body's vessel, once filled with breath,\\nNow lies as cold as the grave's embrace beneath.\\n\\n2. Through the veil of darkness, a whispered plea,\\nDeath's relentless hand, an eternal decree.\\nThe heart's last beat, a mournful farewell,\\nAs life succumbs to the eternal spell.\\n\\n3. In the tapestry of time, threads swiftly cease,\\nDeath's loom weaves sorrow, forever to release.\\nLoved ones scattered, their hearts now torn,\\nAs they mourn the loss that can never be born.\\n\\n4. The phantom's touch, a chilling embrace,\\nDeath's symphony echoes through time and space.\\nMemories linger, a bittersweet refrain,\\nOf moments shared, never to be shared again.\\n\\n5. In the sanctuary of night, a mournful wail,\\nDeath's raven wings unfold, a sinister trail.\\nThe soul departs, leaving behind a void,\\nAs loved ones grapple with emptiness devoid.\\n\\n6. Death's silent call, an irreversible fate,\\nThe cloak of darkness consumes, leaving desolate.\\nPast joys and dreams now fade into the night,\\nAs the final chapter of life takes its flight.\\n\\n7. Through the gates of oblivion, souls gently glide,\\nDeath's enigmatic realm, where secrets reside.\\nThe living left behind, their hearts forever scarred,\\nHaunted by memories, by shadows unmarred.\\n\\n8. In the tapestry of existence, threads fray and tear,\\nDeath's scissors sever, without care or fear.\\nThe seamstress of fate, with a cruel design,\\nRends the fabric of life, leaving only decline.\\n\\n9. The cosmic dance of life and death entwined,\\nA poignant ballet, where destiny is defined.\\nFrom dust to dust, the cycle finds its way,\\nAs souls ascend and bodies decay.\\n\\n10. Death's icy embrace, a chilling reminder,\\nThat life's journey holds an ephemeral splendor.\\nThe flame flickers, then extinguished with a sigh,\\nAs the eternal curtain gently falls nearby.\\n\\n11. Through the mists of time, a solemn procession,\\nDeath's chariot bears burdens, without concession.\\nThe living watch in awe, with mournful gaze,\\nAs the departed vanish in the darkest of days.\\n\\n12. In the heart's darkest chamber, grief takes its toll,\\nDeath's relentless grip, a tormenting soul.\\nTears flow like rivers, an endless cascade,\\nAs cherished memories in anguish are laid.\\n\\n13. The spectral realm, a realm of shadows deep,\\nWhere Death's dominion its secrets shall keep.\\nDisembodied echoes, whispers in the air,\\nA symphony of mourning, both poignant and fair.\\n\\n14. In nature's embrace, a poignant epitaph,\\nDeath's gentle kiss, a final breath.\\nThe fallen leaves, a testament to time's flight,\\nAs life surrenders to eternal night.\\n\\n15. The veil of mortality, a fragile thread,\\nDeath's needle pierces, the final thread is shed.\\nFrom the ethereal womb, a soul now free,\\nReleased from earthly bonds, forever to be.\\n\\n16. Through the labyrinth of memory's maze,\\nDeath's footsteps echo, in a solemn haze.\\nThe heartstrings tremble, as recollections ignite,\\nOf moments shared, now lost in eternal night.\\n\\n17. In the garden of souls, a bloom decays,\\nDeath's gentle hand, a petal it betrays.\\nThe vibrant colors fade, a somber hue,\\nAs life's symphony fades, to silence anew.\\n\\n18. Death's silent symphony, a poignant score,\\nA requiem for dreams, forevermore.\\nThe melody of life, now stilled and cold,\\nA haunting whisper, a tale yet untold.\\n\\n19. In the celestial tapestry, threads intertwine,\\nDeath's shears cut ruthlessly, a design divine.\\nThe cosmic weaver's hand, a somber fate,\\nAs souls ascend, their earthly burdens abate.\\n\\n20. The hourglass of time, grains slowly fall,\\nDeath's hand upon it, heeding nature's call.\\nWith every passing moment, the sands deplete,\\nAs life's journey nears its final retreat.\\n\\n21. Through the misty veil, a spectral dance,\\nDeath's ethereal waltz, a mournful trance.\\nWhispers carried on the wind's soft breath,\\nA symphony of souls, released from their depths.\\n\\n22. In the depths of slumber, a timeless night,\\nDeath's lullaby, a gentle, final light.\\nDreams dissolve, as consciousness takes flight,\\nA journey beyond, to realms of endless night.\\n\\n23. The symphony of life, its finale nears,\\nDeath's maestro conducts, dispelling fears.\\nThe curtain falls, the stage now void and bare,\\nAs souls depart, leaving echoes in the air.\\n\\n24. On the canvas of life, Death's brushstrokes appear,\\nFading hues of joy, replaced by somber cheer.\\nThe vibrant colors dim, a mournful sigh,\\nAs the masterpiece of life begins to die.\\n\\n25. Through the veil of sorrow, tears gently flow,\\nDeath's poignant touch, an eternal woe.\\nThe heartstrings plucked, a mournful melody,\\nA symphony of grief, a bittersweet elegy.\\n\\n26. In the garden of memories, a bloom now fades,\\nDeath's gentle touch, a blossom it pervades.\\nPetals wither, colors softly dim,\\nAs life's sweet fragrance surrenders to its whim.\\n\\n27. On the river of life, a soul sets sail,\\nDeath's oarsman guides, through shadows veil.\\nThe journey's end, a distant, unknown shore,\\nWhere mysteries unfold forevermore.\\n\\n28. The hourglass of time, its sands run low,\\nDeath's hourglass, forever to and fro.\\nWith each grain that falls, a moment slips away,\\nAs life's tapestry unravels, day by day.\\n\\n29. In nature's gentle embrace, a soul finds its peace,\\nDeath's touch, a whispered secret, a sweet release.\\nThe body returns to the earth, to rest and abide,\\nWhile the spirit soars beyond, where love resides.\\n\\n30. The symphony of life, a poignant refrain,\\nDeath's maestro conducts, with eternal gain.\\nThe final notes fade, the music softly dies,\\nAs the curtain falls, and the spirit flies.\\n\\n31. Through the mist of time, a solemn procession,\\nDeath's silent steps, a mournful obsession.\\nLoved ones left behind, tears on their cheeks,\\nWitnessing the journey their beloved seeks.\\n\\n32. On the canvas of life, a masterpiece unfolds,\\nDeath's brushstrokes paint a story yet untold.\\nShades of joy and sorrow, intertwined with care,\\nA tapestry of memories, beyond compare.\\n\\n33. In the depths of slumber, a soul takes flight,\\nDeath's gentle whisper, a final goodbye.\\nDreams dissolve, as consciousness fades away,\\nTo realms unknown, where secrets softly sway.\""
      ]
     },
     "execution_count": 27,
     "metadata": {},
     "output_type": "execute_result"
    }
   ],
   "source": [
    "Death_poem"
   ]
  },
  {
   "cell_type": "code",
   "execution_count": 46,
   "metadata": {},
   "outputs": [],
   "source": [
    "def preprocessing_before_insert(text):\n",
    "    splitted_text = text.split(\"\\n\\n\")\n",
    "    splitted_text = [i for i in splitted_text if len(i.split())>10]\n",
    "    splitted_text = [' '.join(i.split()[1:]) for i in splitted_text]\n",
    "    splitted_text = [i.replace('\\n',\"\") for i in splitted_text]\n",
    "    return splitted_text"
   ]
  },
  {
   "cell_type": "code",
   "execution_count": 47,
   "metadata": {},
   "outputs": [
    {
     "data": {
      "text/plain": [
       "[\"In realms of silence, where shadows dance, Death's icy grip claims its fateful trance. The body's vessel, once filled with breath, Now lies as cold as the grave's embrace beneath.\",\n",
       " \"Through the veil of darkness, a whispered plea, Death's relentless hand, an eternal decree. The heart's last beat, a mournful farewell, As life succumbs to the eternal spell.\",\n",
       " \"In the tapestry of time, threads swiftly cease, Death's loom weaves sorrow, forever to release. Loved ones scattered, their hearts now torn, As they mourn the loss that can never be born.\",\n",
       " \"The phantom's touch, a chilling embrace, Death's symphony echoes through time and space. Memories linger, a bittersweet refrain, Of moments shared, never to be shared again.\",\n",
       " \"In the sanctuary of night, a mournful wail, Death's raven wings unfold, a sinister trail. The soul departs, leaving behind a void, As loved ones grapple with emptiness devoid.\",\n",
       " \"Death's silent call, an irreversible fate, The cloak of darkness consumes, leaving desolate. Past joys and dreams now fade into the night, As the final chapter of life takes its flight.\",\n",
       " \"Through the gates of oblivion, souls gently glide, Death's enigmatic realm, where secrets reside. The living left behind, their hearts forever scarred, Haunted by memories, by shadows unmarred.\",\n",
       " \"In the tapestry of existence, threads fray and tear, Death's scissors sever, without care or fear. The seamstress of fate, with a cruel design, Rends the fabric of life, leaving only decline.\",\n",
       " 'The cosmic dance of life and death entwined, A poignant ballet, where destiny is defined. From dust to dust, the cycle finds its way, As souls ascend and bodies decay.',\n",
       " \"Death's icy embrace, a chilling reminder, That life's journey holds an ephemeral splendor. The flame flickers, then extinguished with a sigh, As the eternal curtain gently falls nearby.\",\n",
       " \"Through the mists of time, a solemn procession, Death's chariot bears burdens, without concession. The living watch in awe, with mournful gaze, As the departed vanish in the darkest of days.\",\n",
       " \"In the heart's darkest chamber, grief takes its toll, Death's relentless grip, a tormenting soul. Tears flow like rivers, an endless cascade, As cherished memories in anguish are laid.\",\n",
       " \"The spectral realm, a realm of shadows deep, Where Death's dominion its secrets shall keep. Disembodied echoes, whispers in the air, A symphony of mourning, both poignant and fair.\",\n",
       " \"In nature's embrace, a poignant epitaph, Death's gentle kiss, a final breath. The fallen leaves, a testament to time's flight, As life surrenders to eternal night.\",\n",
       " \"The veil of mortality, a fragile thread, Death's needle pierces, the final thread is shed. From the ethereal womb, a soul now free, Released from earthly bonds, forever to be.\",\n",
       " \"Through the labyrinth of memory's maze, Death's footsteps echo, in a solemn haze. The heartstrings tremble, as recollections ignite, Of moments shared, now lost in eternal night.\",\n",
       " \"In the garden of souls, a bloom decays, Death's gentle hand, a petal it betrays. The vibrant colors fade, a somber hue, As life's symphony fades, to silence anew.\",\n",
       " \"Death's silent symphony, a poignant score, A requiem for dreams, forevermore. The melody of life, now stilled and cold, A haunting whisper, a tale yet untold.\",\n",
       " \"In the celestial tapestry, threads intertwine, Death's shears cut ruthlessly, a design divine. The cosmic weaver's hand, a somber fate, As souls ascend, their earthly burdens abate.\",\n",
       " \"The hourglass of time, grains slowly fall, Death's hand upon it, heeding nature's call. With every passing moment, the sands deplete, As life's journey nears its final retreat.\",\n",
       " \"Through the misty veil, a spectral dance, Death's ethereal waltz, a mournful trance. Whispers carried on the wind's soft breath, A symphony of souls, released from their depths.\",\n",
       " \"In the depths of slumber, a timeless night, Death's lullaby, a gentle, final light. Dreams dissolve, as consciousness takes flight, A journey beyond, to realms of endless night.\",\n",
       " \"The symphony of life, its finale nears, Death's maestro conducts, dispelling fears. The curtain falls, the stage now void and bare, As souls depart, leaving echoes in the air.\",\n",
       " \"On the canvas of life, Death's brushstrokes appear, Fading hues of joy, replaced by somber cheer. The vibrant colors dim, a mournful sigh, As the masterpiece of life begins to die.\",\n",
       " \"Through the veil of sorrow, tears gently flow, Death's poignant touch, an eternal woe. The heartstrings plucked, a mournful melody, A symphony of grief, a bittersweet elegy.\",\n",
       " \"In the garden of memories, a bloom now fades, Death's gentle touch, a blossom it pervades. Petals wither, colors softly dim, As life's sweet fragrance surrenders to its whim.\",\n",
       " \"On the river of life, a soul sets sail, Death's oarsman guides, through shadows veil. The journey's end, a distant, unknown shore, Where mysteries unfold forevermore.\",\n",
       " \"The hourglass of time, its sands run low, Death's hourglass, forever to and fro. With each grain that falls, a moment slips away, As life's tapestry unravels, day by day.\",\n",
       " \"In nature's gentle embrace, a soul finds its peace, Death's touch, a whispered secret, a sweet release. The body returns to the earth, to rest and abide, While the spirit soars beyond, where love resides.\",\n",
       " \"The symphony of life, a poignant refrain, Death's maestro conducts, with eternal gain. The final notes fade, the music softly dies, As the curtain falls, and the spirit flies.\",\n",
       " \"Through the mist of time, a solemn procession, Death's silent steps, a mournful obsession. Loved ones left behind, tears on their cheeks, Witnessing the journey their beloved seeks.\",\n",
       " \"On the canvas of life, a masterpiece unfolds, Death's brushstrokes paint a story yet untold. Shades of joy and sorrow, intertwined with care, A tapestry of memories, beyond compare.\",\n",
       " \"In the depths of slumber, a soul takes flight, Death's gentle whisper, a final goodbye. Dreams dissolve, as consciousness fades away, To realms unknown, where secrets softly sway.\"]"
      ]
     },
     "execution_count": 47,
     "metadata": {},
     "output_type": "execute_result"
    }
   ],
   "source": [
    "preprocessing_before_insert(Death_poem)"
   ]
  },
  {
   "cell_type": "code",
   "execution_count": 63,
   "metadata": {},
   "outputs": [
    {
     "name": "stdout",
     "output_type": "stream",
     "text": [
      "Environment 42\n",
      "Music 50\n",
      "Death 42\n"
     ]
    }
   ],
   "source": [
    "for genre in ['Environment', 'Music', 'Death']:\n",
    "    prompt =  create_prompt(genre)\n",
    "    response = get_gemini_response(prompt)\n",
    "    \n",
    "    # Creating a data set to store generated data points\n",
    "    gen_df = pd.DataFrame(columns = ['Genre','Poem'])\n",
    "    gen_df['Poem'] = preprocessing_before_insert(response)\n",
    "    gen_df['Genre'] = genre\n",
    "    \n",
    "    print(genre, len(gen_df))\n",
    "    \n",
    "    gen_df.to_csv(f'{genre}.csv', index=False)"
   ]
  },
  {
   "cell_type": "markdown",
   "metadata": {},
   "source": [
    "Here i genereted data from gemini-pro and saved it in a csv file.\n",
    "Now,lets build the model."
   ]
  },
  {
   "cell_type": "markdown",
   "metadata": {},
   "source": [
    "***********************************************************************************************************************\n"
   ]
  }
 ],
 "metadata": {
  "kernelspec": {
   "display_name": "poem_env",
   "language": "python",
   "name": "python3"
  },
  "language_info": {
   "codemirror_mode": {
    "name": "ipython",
    "version": 3
   },
   "file_extension": ".py",
   "mimetype": "text/x-python",
   "name": "python",
   "nbconvert_exporter": "python",
   "pygments_lexer": "ipython3",
   "version": "3.11.7"
  }
 },
 "nbformat": 4,
 "nbformat_minor": 2
}
